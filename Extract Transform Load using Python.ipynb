{
 "cells": [
  {
   "cell_type": "code",
   "execution_count": 10,
   "id": "6f58b0ee",
   "metadata": {},
   "outputs": [],
   "source": [
    "import glob\n",
    "import pandas as pd\n",
    "import elementpath\n",
    "import xml.etree.ElementTree as ET\n",
    "from datetime import datetime"
   ]
  },
  {
   "cell_type": "code",
   "execution_count": 12,
   "id": "3c2a8e83",
   "metadata": {},
   "outputs": [],
   "source": [
    "tmpfile = \"dealership_temp.tmp\"\n",
    "logfile = \"dealership_logfile.txt\"\n",
    "targetfile = \"dealership_transformed_data.csv\""
   ]
  },
  {
   "cell_type": "markdown",
   "id": "3ec2f6a7",
   "metadata": {},
   "source": [
    "## Extract"
   ]
  },
  {
   "cell_type": "code",
   "execution_count": 13,
   "id": "0f96b6f4",
   "metadata": {},
   "outputs": [],
   "source": [
    "def extract_from_csv(file_to_process):\n",
    "    dataframe = pd.read_csv(file_to_process)\n",
    "    return dataframe\n",
    "\n",
    "def extract_from_json(file_to_process):\n",
    "    dataframe = pd.read_json(file_to_process, lines=True)\n",
    "    return dataframe\n",
    "\n",
    "def extract_from_xml(file_to_process):\n",
    "    dataframe = pd.DataFrame(columns=['car_model','year_of_manufacture','price', 'fuel'])\n",
    "    tree = ET.parse(file_to_process)\n",
    "    root = tree.getroot()\n",
    "    for person in root:\n",
    "        car_model = person.find(\"car_model\").text\n",
    "        year_of_manufacture = int(person.find(\"year_of_manufacture\").text)\n",
    "        price = float(person.find(\"price\").text)\n",
    "        fuel = person.find(\"fuel\").text\n",
    "        dataframe = dataframe.append({\"car_model\": car_model,\n",
    "                                     \"year_of_manufacture\": year_of_manufacture,\n",
    "                                     \"price\": price,\n",
    "                                     \"fuel\": fuel}, ignore_index = True)\n",
    "        \n",
    "    return dataframe"
   ]
  },
  {
   "cell_type": "code",
   "execution_count": 16,
   "id": "fba6091c",
   "metadata": {},
   "outputs": [],
   "source": [
    "def extract():\n",
    "    extracted_data = pd.DataFrame(columns=['car_model','year_of_manufacture','price', 'fuel'])\n",
    "    \n",
    "    # for csv_file\n",
    "    for csv_file in glob.glob('datasource/*.csv'):\n",
    "        extracted_data = extracted_data.append(extract_from_csv(csv_file), ignore_index = True)\n",
    "    \n",
    "    # For JSON File\n",
    "    for json_file in glob.glob('datasource/*.json'):\n",
    "        extracted_data = extracted_data.append(extract_from_json(json_file), ignore_index=True)\n",
    "    \n",
    "    # For XML File\n",
    "    for xml_file in glob.glob('datasource/*.xml'):\n",
    "        extracted_data = extracted_data.append(extract_from_xml(xml_file), ignore_index=True)\n",
    "    \n",
    "    return extracted_data"
   ]
  },
  {
   "cell_type": "markdown",
   "id": "7b711e09",
   "metadata": {},
   "source": [
    "## Load"
   ]
  },
  {
   "cell_type": "code",
   "execution_count": 17,
   "id": "1dd6f5ef",
   "metadata": {},
   "outputs": [],
   "source": [
    "def transform(data):\n",
    "    data['price'] = round(data.price, 2)\n",
    "    return data"
   ]
  },
  {
   "cell_type": "markdown",
   "id": "fb2e5911",
   "metadata": {},
   "source": [
    "## Loading and Logging"
   ]
  },
  {
   "cell_type": "code",
   "execution_count": 21,
   "id": "9bb47f35",
   "metadata": {},
   "outputs": [],
   "source": [
    "def load(target_file, data_to_load):\n",
    "    data_to_load.to_csv(target_file)"
   ]
  },
  {
   "cell_type": "code",
   "execution_count": 19,
   "id": "cd451913",
   "metadata": {},
   "outputs": [],
   "source": [
    "def log(message):\n",
    "    timestamp_format = '%H:%M:%S-%h-%d-%Y'\n",
    "    now = datetime.now()\n",
    "    timestamp = now.strftime(timestamp_format)\n",
    "    with open(\"dealership_logfile.txt\",\"a\") as f: f.write(timestamp + ',' + message + 'n')"
   ]
  },
  {
   "cell_type": "markdown",
   "id": "14fabbcf",
   "metadata": {},
   "source": [
    "## Running ETL Process"
   ]
  },
  {
   "cell_type": "code",
   "execution_count": 23,
   "id": "75d97220",
   "metadata": {},
   "outputs": [],
   "source": [
    "log(\"ETL Job Started\\n\")\n",
    "\n",
    "log(\"Extract phase Started\\n\")\n",
    "extracted_data = extract() \n",
    "log(\"Extract phase Ended\\n\")\n",
    "\n",
    "log(\"Transform phase Started\\n\")\n",
    "transformed_data = transform(extracted_data)\n",
    "log(\"Transform phase Ended\\n\")\n",
    "\n",
    "log(\"Load phase Started\\n\")\n",
    "load(targetfile,transformed_data)\n",
    "log(\"Load phase Ended\\n\")\n",
    "\n",
    "log(\"ETL Job Ended\")"
   ]
  },
  {
   "cell_type": "code",
   "execution_count": null,
   "id": "f1a9a2d4",
   "metadata": {},
   "outputs": [],
   "source": []
  }
 ],
 "metadata": {
  "kernelspec": {
   "display_name": "Python 3",
   "language": "python",
   "name": "python3"
  },
  "language_info": {
   "codemirror_mode": {
    "name": "ipython",
    "version": 3
   },
   "file_extension": ".py",
   "mimetype": "text/x-python",
   "name": "python",
   "nbconvert_exporter": "python",
   "pygments_lexer": "ipython3",
   "version": "3.8.8"
  }
 },
 "nbformat": 4,
 "nbformat_minor": 5
}
